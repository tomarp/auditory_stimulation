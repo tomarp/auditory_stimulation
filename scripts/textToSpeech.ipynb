{
 "cells": [
  {
   "cell_type": "markdown",
   "metadata": {},
   "source": [
    "### Text to Speech (mp4)"
   ]
  },
  {
   "cell_type": "code",
   "execution_count": 1,
   "metadata": {},
   "outputs": [
    {
     "name": "stdout",
     "output_type": "stream",
     "text": [
      "Audio saved as output_audio.mp3\n",
      "Video saved as output_video.mp4\n",
      "Moviepy - Building video final_output.mp4.\n",
      "MoviePy - Writing audio in final_outputTEMP_MPY_wvf_snd.mp4\n"
     ]
    },
    {
     "name": "stderr",
     "output_type": "stream",
     "text": [
      "                                                                     \r"
     ]
    },
    {
     "name": "stdout",
     "output_type": "stream",
     "text": [
      "MoviePy - Done.\n",
      "Moviepy - Writing video final_output.mp4\n",
      "\n"
     ]
    },
    {
     "name": "stderr",
     "output_type": "stream",
     "text": [
      "                                                  "
     ]
    },
    {
     "name": "stdout",
     "output_type": "stream",
     "text": [
      "Moviepy - Done !\n",
      "Moviepy - video ready final_output.mp4\n",
      "Final MP4 saved as final_output.mp4\n"
     ]
    },
    {
     "name": "stderr",
     "output_type": "stream",
     "text": [
      "\r"
     ]
    }
   ],
   "source": [
    "import pyttsx3\n",
    "import cv2\n",
    "import numpy as np\n",
    "from moviepy.editor import AudioFileClip, VideoFileClip\n",
    "import os\n",
    "\n",
    "def text_to_audio(text, audio_filename=\"output_audio.mp3\"):\n",
    "    # Initialize the pyttsx3 engine for text-to-speech\n",
    "    engine = pyttsx3.init()\n",
    "    engine.save_to_file(text, audio_filename)\n",
    "    engine.runAndWait()\n",
    "    print(f\"Audio saved as {audio_filename}\")\n",
    "\n",
    "def create_video_from_text(text, video_filename=\"output_video.mp4\", audio_filename=\"output_audio.mp3\"):\n",
    "    # Set video parameters\n",
    "    frame_width = 1920\n",
    "    frame_height = 1080\n",
    "    fourcc = cv2.VideoWriter_fourcc(*'mp4v')\n",
    "    out = cv2.VideoWriter(video_filename, fourcc, 1, (frame_width, frame_height))\n",
    "\n",
    "    # Create an image for each frame with the text\n",
    "    font = cv2.FONT_HERSHEY_SIMPLEX\n",
    "    font_scale = 1\n",
    "    color = (255, 255, 255)\n",
    "    thickness = 2\n",
    "    text_lines = text.split(\"\\n\")\n",
    "    \n",
    "    for line in text_lines:\n",
    "        img = np.zeros((frame_height, frame_width, 3), dtype=np.uint8)  # Create black screen\n",
    "        cv2.putText(img, line, (50, 300), font, font_scale, color, thickness, lineType=cv2.LINE_AA)\n",
    "        out.write(img)  # Write the frame to the video\n",
    "\n",
    "    out.release()\n",
    "    print(f\"Video saved as {video_filename}\")\n",
    "\n",
    "def combine_audio_video(video_filename=\"output_video.mp4\", audio_filename=\"output_audio.mp3\", output_filename=\"final_output.mp4\"):\n",
    "    # Load the video and audio\n",
    "    video_clip = VideoFileClip(video_filename)\n",
    "    audio_clip = AudioFileClip(audio_filename)\n",
    "\n",
    "    # Set the audio to the video\n",
    "    video_clip = video_clip.set_audio(audio_clip)\n",
    "\n",
    "    # Write the final video file\n",
    "    video_clip.write_videofile(output_filename, codec=\"libx264\", audio_codec=\"aac\")\n",
    "    print(f\"Final MP4 saved as {output_filename}\")\n",
    "\n",
    "def convert_text_to_mp4(text_file, output_filename=\"final_output.mp4\"):\n",
    "    # Read the text from the file\n",
    "    with open(text_file, 'r') as file:\n",
    "        text = file.read()\n",
    "\n",
    "    # Convert text to audio\n",
    "    audio_filename = \"output_audio.mp3\"\n",
    "    text_to_audio(text, audio_filename)\n",
    "\n",
    "    # Create video from text\n",
    "    video_filename = \"output_video.mp4\"\n",
    "    create_video_from_text(text, video_filename, audio_filename)\n",
    "\n",
    "    # Combine audio and video into final MP4\n",
    "    combine_audio_video(video_filename, audio_filename, output_filename)\n",
    "\n",
    "    # Clean up temporary files\n",
    "    os.remove(audio_filename)\n",
    "    os.remove(video_filename)\n",
    "\n",
    "# Example usage\n",
    "text_file = \"../sample.txt\"  # Replace with the path to your text file\n",
    "convert_text_to_mp4(text_file)\n"
   ]
  },
  {
   "cell_type": "code",
   "execution_count": 12,
   "metadata": {},
   "outputs": [
    {
     "name": "stdout",
     "output_type": "stream",
     "text": [
      "Audio saved as ../outdir/audio_10.mp3\n",
      "Video saved as output_video.mp4\n",
      "Moviepy - Building video ../outdir/output_10.mp4.\n",
      "MoviePy - Writing audio in output_10TEMP_MPY_wvf_snd.mp4\n"
     ]
    },
    {
     "name": "stderr",
     "output_type": "stream",
     "text": [
      "                                                                   \r"
     ]
    },
    {
     "name": "stdout",
     "output_type": "stream",
     "text": [
      "MoviePy - Done.\n",
      "Moviepy - Writing video ../outdir/output_10.mp4\n",
      "\n"
     ]
    },
    {
     "name": "stderr",
     "output_type": "stream",
     "text": [
      "                                                  \r"
     ]
    },
    {
     "name": "stdout",
     "output_type": "stream",
     "text": [
      "Moviepy - Done !\n",
      "Moviepy - video ready ../outdir/output_10.mp4\n",
      "Final MP4 saved as ../outdir/output_10.mp4\n"
     ]
    }
   ],
   "source": [
    "from gtts import gTTS\n",
    "import cv2\n",
    "import numpy as np\n",
    "from moviepy.editor import AudioFileClip, VideoFileClip\n",
    "import os\n",
    "\n",
    "def text_to_audio(text, audio_filename=\"../outdir/output_audio.mp3\", speed=1.0):\n",
    "    # Convert text to speech using gTTS\n",
    "    tts = gTTS(text=text, lang='en', slow=False)\n",
    "    tts.save(audio_filename)\n",
    "    print(f\"Audio saved as {audio_filename}\")\n",
    "\n",
    "def create_video_from_text(text, video_filename=\"output_video.mp4\"):\n",
    "    # Set video parameters\n",
    "    frame_width = 1920\n",
    "    frame_height = 1080\n",
    "    fourcc = cv2.VideoWriter_fourcc(*'mp4v')\n",
    "    out = cv2.VideoWriter(video_filename, fourcc, 1, (frame_width, frame_height))\n",
    "\n",
    "    # Create an image for each frame with the text\n",
    "    font = cv2.FONT_HERSHEY_SIMPLEX\n",
    "    font_scale = 1\n",
    "    color = (255, 255, 255)\n",
    "    thickness = 2\n",
    "    text_lines = text.split(\"\\n\")\n",
    "    \n",
    "    for line in text_lines:\n",
    "        img = np.zeros((frame_height, frame_width, 3), dtype=np.uint8)  # Create black screen\n",
    "        cv2.putText(img, line, (50, 300), font, font_scale, color, thickness, lineType=cv2.LINE_AA)\n",
    "        out.write(img)  # Write the frame to the video\n",
    "\n",
    "    out.release()\n",
    "    print(f\"Video saved as {video_filename}\")\n",
    "\n",
    "def combine_audio_video(video_filename=\"output_video.mp4\", audio_filename=\"output_audio.mp3\", output_filename=\"final_output.mp4\"):\n",
    "    # Load the video and audio\n",
    "    video_clip = VideoFileClip(video_filename)\n",
    "    audio_clip = AudioFileClip(audio_filename)\n",
    "\n",
    "    # Set the audio to the video\n",
    "    video_clip = video_clip.set_audio(audio_clip)\n",
    "\n",
    "    # Write the final video file\n",
    "    video_clip.write_videofile(output_filename, codec=\"libx264\", audio_codec=\"aac\")\n",
    "    print(f\"Final MP4 saved as {output_filename}\")\n",
    "\n",
    "def convert_text_to_mp4(text_file, output_filename=\"../outdir/output_10.mp4\", speech_speed=1.0):\n",
    "    # Read the text from the file\n",
    "    with open(text_file, 'r') as file:\n",
    "        text = file.read()\n",
    "\n",
    "    # Convert text to audio (MP3 output)\n",
    "    audio_filename = \"../outdir/audio_10.mp3\"\n",
    "    text_to_audio(text, audio_filename)\n",
    "\n",
    "    # Create video from text\n",
    "    video_filename = \"output_video.mp4\"\n",
    "    create_video_from_text(text, video_filename)\n",
    "\n",
    "    # Combine audio and video into final MP4\n",
    "    combine_audio_video(video_filename, audio_filename, output_filename)\n",
    "\n",
    "    # Clean up temporary files\n",
    "    # os.remove(audio_filename)\n",
    "    os.remove(video_filename)\n",
    "\n",
    "# Example usage\n",
    "text_file = \"../indir/text_10.txt\"  # Replace with the path to your text file\n",
    "convert_text_to_mp4(text_file, speech_speed=0.9)  # Adjust speed as needed (1.0 is normal, 1.2 is faster)\n"
   ]
  },
  {
   "cell_type": "code",
   "execution_count": null,
   "metadata": {},
   "outputs": [],
   "source": []
  }
 ],
 "metadata": {
  "kernelspec": {
   "display_name": "py313",
   "language": "python",
   "name": "python3"
  },
  "language_info": {
   "codemirror_mode": {
    "name": "ipython",
    "version": 3
   },
   "file_extension": ".py",
   "mimetype": "text/x-python",
   "name": "python",
   "nbconvert_exporter": "python",
   "pygments_lexer": "ipython3",
   "version": "3.13.2"
  }
 },
 "nbformat": 4,
 "nbformat_minor": 2
}
